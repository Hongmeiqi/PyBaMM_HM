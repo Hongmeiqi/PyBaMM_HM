














import pybamm
import numpy as np


sols = []
te_opts = pybamm.BatteryModelOptions({}).possible_options["transport efficiency"]
parameter_values = pybamm.ParameterValues("Marquis2019")
print(te_opts)


parameter_values.search("porosity")


parameter_values.search("Bruggeman")





parameter_values.update({'Negative electrode tortuosity factor (electrolyte)': 0.3**(-0.5),
                         'Positive electrode tortuosity factor (electrolyte)': 0.3**(-0.5),
                         'Negative electrode tortuosity factor (electrode)': 0.7**(-0.5),
                         'Positive electrode tortuosity factor (electrode)': 0.7**(-0.5),
                         'Separator tortuosity factor (electrolyte)': 1.0}, check_already_exists=False)





for t_label in te_opts:
    model = pybamm.lithium_ion.DFN(options={'transport efficiency': t_label})  # Doyle-Fuller-Newman model
    sim = pybamm.Simulation(model, parameter_values=parameter_values)
    sols.append(sim.solve([0, 3600]))  # solve for 1 hour


pybamm.dynamic_plot(sols,labels=te_opts)





np.allclose(sols[0]["Terminal voltage [V]"].data, sols[4]["Terminal voltage [V]"].data)





parameter_values.update({'Negative electrode tortuosity factor (electrolyte)': 4.0,
                         'Positive electrode tortuosity factor (electrolyte)': 4.0,
                         'Negative electrode tortuosity factor (electrode)': 3.0,
                         'Positive electrode tortuosity factor (electrode)': 3.0,
                         'Separator tortuosity factor (electrolyte)': 1.5}, check_already_exists=False)


model = pybamm.lithium_ion.DFN(options={'transport efficiency': "tortuosity factor"})  # Doyle-Fuller-Newman model
sim = pybamm.Simulation(model, parameter_values=parameter_values)
sols.append(sim.solve([0, 3600]))


pybamm.dynamic_plot(sols,labels=te_opts+["higher tortuosity factor"])





pybamm.print_citations()
