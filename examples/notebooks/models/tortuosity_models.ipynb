{
 "cells": [
  {
   "attachments": {},
   "cell_type": "markdown",
   "metadata": {},
   "source": [
    "# Transport Efficiency"
   ]
  },
  {
   "cell_type": "code",
   "execution_count": 1,
   "metadata": {},
   "outputs": [],
   "source": [
    "import pybamm"
   ]
  },
  {
   "cell_type": "code",
   "execution_count": 2,
   "metadata": {},
   "outputs": [],
   "source": [
    "sols = []\n",
    "labels = ['log square root', 'log', 'linear', 'half volume fraction', 'Bruggeman']\n",
    "for t_label in labels:\n",
    "    model = pybamm.lithium_ion.DFN(options={'transport efficiency': t_label})  # Doyle-Fuller-Newman model\n",
    "    sim = pybamm.Simulation(model)\n",
    "    sols.append(sim.solve([0, 3600]))  # solve for 1 hour"
   ]
  },
  {
   "cell_type": "code",
   "execution_count": 9,
   "metadata": {},
   "outputs": [],
   "source": [
    "model = pybamm.lithium_ion.DFN(options={'transport efficiency': 'tortuosity factor'})  # Doyle-Fuller-Newman model\n",
    "parameter_values = model.default_parameter_values\n",
    "parameter_values.update({'Negative electrode tortuosity factor (electrolyte)': 1.5,\n",
    "                         'Positive electrode tortuosity factor (electrolyte)': 1.5,\n",
    "                         'Negative electrode tortuosity factor (electrode)': 1.5,\n",
    "                         'Positive electrode tortuosity factor (electrode)': 1.5,\n",
    "                         'Separator tortuosity factor (electrolyte)': 1.2}, check_already_exists=False)\n",
    "sim = pybamm.Simulation(model, parameter_values=parameter_values)\n",
    "sols.append(sim.solve([0, 3600]))  # solve for 1 hour"
   ]
  },
  {
   "cell_type": "code",
   "execution_count": 11,
   "metadata": {},
   "outputs": [
    {
     "data": {
      "application/vnd.jupyter.widget-view+json": {
       "model_id": "47293c6a70a349ca922d1484adceebf8",
       "version_major": 2,
       "version_minor": 0
      },
      "text/plain": [
       "interactive(children=(FloatSlider(value=0.0, description='t', max=1.0, step=0.01), Output()), _dom_classes=('w…"
      ]
     },
     "metadata": {},
     "output_type": "display_data"
    },
    {
     "data": {
      "text/plain": [
       "<pybamm.plotting.quick_plot.QuickPlot at 0x14d290550>"
      ]
     },
     "execution_count": 11,
     "metadata": {},
     "output_type": "execute_result"
    }
   ],
   "source": [
    "pybamm.dynamic_plot(sols,labels=labels+['Tortuosity factor'])"
   ]
  }
 ],
 "metadata": {
  "kernelspec": {
   "display_name": "pbtort",
   "language": "python",
   "name": "python3"
  },
  "language_info": {
   "codemirror_mode": {
    "name": "ipython",
    "version": 3
   },
   "file_extension": ".py",
   "mimetype": "text/x-python",
   "name": "python",
   "nbconvert_exporter": "python",
   "pygments_lexer": "ipython3",
   "version": "3.9.1"
  },
  "orig_nbformat": 4
 },
 "nbformat": 4,
 "nbformat_minor": 2
}
